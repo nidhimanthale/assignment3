{
 "cells": [
  {
   "cell_type": "code",
   "execution_count": 1,
   "metadata": {},
   "outputs": [
    {
     "name": "stdout",
     "output_type": "stream",
     "text": [
      "Cannot divide by zero.\n"
     ]
    }
   ],
   "source": [
    "# Write a function to compute 5/0 and use try/except to catch the exceptions.\n",
    "\n",
    "def divide():\n",
    "    y=5/0\n",
    "    print(y)\n",
    "try:\n",
    "    divide()\n",
    "except ZeroDivisionError:\n",
    "    print(\"Cannot divide by zero.\")"
   ]
  },
  {
   "cell_type": "code",
   "execution_count": 2,
   "metadata": {},
   "outputs": [
    {
     "name": "stdout",
     "output_type": "stream",
     "text": [
      "Americans play Baseball.\n",
      "Americans play Cricket.\n",
      "Americans watch Baseball.\n",
      "Americans watch Cricket.\n",
      "Indians play Baseball.\n",
      "Indians play Cricket.\n",
      "Indians watch Baseball.\n",
      "Indians watch Cricket.\n"
     ]
    }
   ],
   "source": [
    "# Implement a Python Program to generate all sentences where subject is in [\"Americans\",\"Indians\"] and the verb is in [\"play\",\"watch\"] and the object is in [\"Baseball\",\"Cricket\"].\n",
    "\n",
    "s=[\"Americans\",\"Indians\"]\n",
    "v=[\"play\",\"watch\"]\n",
    "o=[\"Baseball\",\"Cricket\"]\n",
    "i=0\n",
    "j=0\n",
    "k=0\n",
    "for i in range(len(s)):\n",
    "    for j in range(len(v)):\n",
    "        for k in range(len(o)):\n",
    "            print(s[i]+\" \"+v[j]+\" \"+o[k]+\".\")"
   ]
  },
  {
   "cell_type": "code",
   "execution_count": 3,
   "metadata": {},
   "outputs": [
    {
     "name": "stdout",
     "output_type": "stream",
     "text": [
      "[[  1   1   1   1]\n",
      " [  8   4   2   1]\n",
      " [ 27   9   3   1]\n",
      " [ 64  16   4   1]\n",
      " [125  25   5   1]]\n"
     ]
    }
   ],
   "source": [
    "# Write a function so that the columns of the output matrix are powers of the input vector.\n",
    "# The order of the powers is determined by the increasing boolean argument. Specifically, when the increasing is False, the i-th output column is the input vector raised element-wise to the power of N-i-1.\n",
    "\n",
    "def GPMatrix(l,N):\n",
    "    import numpy as np\n",
    "    r=[]\n",
    "    for num in l:\n",
    "        y=[]\n",
    "        i=0\n",
    "        while i<N:\n",
    "            y.append(num**(N-i-1))\n",
    "            i=i+1\n",
    "        r.append(y)\n",
    "    print(np.asarray(r))\n",
    "    \n",
    "\n",
    "li=[1,2,3,4,5]\n",
    "GPMatrix(li,4) "
   ]
  }
 ],
 "metadata": {
  "kernelspec": {
   "display_name": "Python 3",
   "language": "python",
   "name": "python3"
  },
  "language_info": {
   "codemirror_mode": {
    "name": "ipython",
    "version": 3
   },
   "file_extension": ".py",
   "mimetype": "text/x-python",
   "name": "python",
   "nbconvert_exporter": "python",
   "pygments_lexer": "ipython3",
   "version": "3.7.1"
  }
 },
 "nbformat": 4,
 "nbformat_minor": 2
}
